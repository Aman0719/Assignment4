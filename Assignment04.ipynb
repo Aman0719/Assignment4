{
 "cells": [
  {
   "cell_type": "code",
   "execution_count": 1,
   "id": "a4b6d51d-32ca-4b81-b3e0-6c1964ba808a",
   "metadata": {},
   "outputs": [],
   "source": [
    "#Q1. Which keyword is used to create a function? Create a function to return a list of odd numbers in the range of 1 to 25.\n",
    "\n",
    "#Ans- \"def\" keyword is used to create a function in python.\n",
    "\n",
    "#Function to return odd numbers in the range of 1 to 25.\n",
    "\n",
    "def odd_num():\n",
    "    for i in range(26):\n",
    "        if i%2 !=0:\n",
    "            print(i)"
   ]
  },
  {
   "cell_type": "code",
   "execution_count": 4,
   "id": "dd9371ea-7740-433a-8484-576aef54418e",
   "metadata": {},
   "outputs": [
    {
     "name": "stdout",
     "output_type": "stream",
     "text": [
      "1\n",
      "3\n",
      "5\n",
      "7\n",
      "9\n",
      "11\n",
      "13\n",
      "15\n",
      "17\n",
      "19\n",
      "21\n",
      "23\n",
      "25\n"
     ]
    }
   ],
   "source": [
    "odd_num()"
   ]
  },
  {
   "cell_type": "code",
   "execution_count": null,
   "id": "e7622a3f-31da-46c1-be82-fd4f0f8ccf4b",
   "metadata": {},
   "outputs": [],
   "source": [
    "Q2. Why *args and **kwargs is used in some functions? Create a function each for *args and **kwargs\n",
    "to demonstrate their use.\n",
    "\n",
    "Ans- In a simple, we can give only fixed number of arguemnets according to the function, which restricts our utility in case of variable number of arguemnets.\n",
    "\n",
    "    Hence, In python *args and **kwargs are used when we have variable number of arguemenst or we are not sure about the nukber of arguements.\n",
    "\n",
    "    *args\n",
    "    It means non-keyword arguemnts and used to give variable non-keyword arguments.\n",
    "\n",
    "    **kwargs\n",
    "    It means keyword arguemnents, \n",
    "    The arguments are passed as a dictionary and these arguments make a dictionary inside function with name same as the parameter excluding double asterisk.\n",
    "\n",
    "    Functions for each are as follows:"
   ]
  },
  {
   "cell_type": "code",
   "execution_count": 5,
   "id": "0e2cb268-a89d-4658-a4dc-f5b4509458cf",
   "metadata": {},
   "outputs": [],
   "source": [
    "#Function using *args\n",
    "\n",
    "def sum (*args):\n",
    "    total = 0\n",
    "    for i in args:\n",
    "        total = total+i\n",
    "    return total"
   ]
  },
  {
   "cell_type": "code",
   "execution_count": 6,
   "id": "3c876c6b-d365-4264-8967-67bfaf1fd686",
   "metadata": {},
   "outputs": [
    {
     "data": {
      "text/plain": [
       "1790"
      ]
     },
     "execution_count": 6,
     "metadata": {},
     "output_type": "execute_result"
    }
   ],
   "source": [
    "sum(78,759,865,25,63)"
   ]
  },
  {
   "cell_type": "code",
   "execution_count": 12,
   "id": "8d69e97c-9042-45c0-bab6-4b940d0b0171",
   "metadata": {},
   "outputs": [],
   "source": [
    "#Function using *kwargs\n",
    "\n",
    "def personal_info(**kwargs):\n",
    "    print(\"Personal information:\")\n",
    "    for key, value in kwargs.items():\n",
    "        print(f\"{key}: {value}\")"
   ]
  },
  {
   "cell_type": "code",
   "execution_count": 13,
   "id": "05d915f6-14ee-48f2-8abd-b027242c8ca4",
   "metadata": {},
   "outputs": [
    {
     "name": "stdout",
     "output_type": "stream",
     "text": [
      "Personal information:\n",
      "Name: Amandeep Singh\n",
      "Age: 27\n",
      "City: Aligarh\n",
      "Occupation: Data Engineer\n"
     ]
    }
   ],
   "source": [
    "personal_info(Name=\"Amandeep Singh\", Age=27, City=\"Aligarh\", Occupation=\"Data Engineer\")"
   ]
  },
  {
   "cell_type": "code",
   "execution_count": null,
   "id": "6ec3f955-e2bd-4b47-8f0f-4beb41e4e01c",
   "metadata": {},
   "outputs": [],
   "source": [
    "Q3. What is an iterator in python? Name the method used to initialise the iterator object and the method\n",
    "    used for iteration. Use these methods to print the first five elements of the given list [2, 4, 6, 8, 10, 12, 14,16, 18, 20].\n",
    "    \n",
    "Ans- An iterator in Python is an object that allows you to traverse or iterate through a collection of elements such as  lists, tuples, dicts, and sets one at a time. \n",
    "\n",
    " The iterator object is initialized using the iter() method and it uses the next() method for iteration.\n",
    "\n",
    "__iter__(): \n",
    "The iter() method is called for the initialization of an iterator. This returns an iterator object\n",
    "\n",
    "__next__():\n",
    "The next method returns the next value for the iterable.\n",
    "When we use a for loop to traverse any iterable object, internally it uses the iter() method to get an iterator object, which further uses the next() method to iterate over.\n",
    "This method raises a StopIteration to signal the end of the iteration.\n",
    "\n",
    "Program in next cell"
   ]
  },
  {
   "cell_type": "code",
   "execution_count": 15,
   "id": "50bf93c7-9cf5-4a32-9aaa-7068ccf1a1f1",
   "metadata": {},
   "outputs": [
    {
     "name": "stdout",
     "output_type": "stream",
     "text": [
      "2\n",
      "4\n",
      "6\n",
      "8\n",
      "10\n"
     ]
    }
   ],
   "source": [
    "#To print the first five elements of the given list [2, 4, 6, 8, 10, 12, 14,16, 18, 20]\n",
    "\n",
    "my_list = [2, 4, 6, 8, 10, 12, 14, 16, 18, 20]\n",
    "my_iterator = iter(my_list)\n",
    "\n",
    "for i in range(5):\n",
    "    print(next(my_iterator))"
   ]
  },
  {
   "cell_type": "code",
   "execution_count": null,
   "id": "8977617f-fead-45e0-9fe0-6a8800dbe13a",
   "metadata": {},
   "outputs": [],
   "source": [
    "Q4. What is a generator function in python? Why yield keyword is used? Give an example of a generator function.\n",
    "\n",
    "Ans- The Generator function is a special type of function that return a generator object.\n",
    "     The generator object is an iterator that generates values on the fly as we iterate over it, instead of having all the values stored in the memory like a list or tuple.\n",
    "     Unlike regular functions, which return a value and then terminate, generator functions can be paused and resumed.\n",
    "    \n",
    "    The yield keyword is used in a generator function to produce a value, and then suspend the execution of the function.\n",
    "    When the generator is later resumed, execution will continue immediately after the yield statement. \n",
    "    This allows the generator to produce a series of values one at a time, without needing to generate them all at once.\n",
    "    \n",
    "    Example  of Generator Function in next cell:"
   ]
  },
  {
   "cell_type": "code",
   "execution_count": 16,
   "id": "01fdf951-d07b-40bb-99bc-5e43277205ea",
   "metadata": {},
   "outputs": [
    {
     "name": "stdout",
     "output_type": "stream",
     "text": [
      "1\n",
      "4\n",
      "9\n",
      "16\n",
      "25\n"
     ]
    }
   ],
   "source": [
    "#Generator Function to find square of first 5 natural numbers.\n",
    "\n",
    "def square_generator():\n",
    "    for i in range(1, 6):\n",
    "        yield i ** 2\n",
    "    \n",
    "for i in square_generator():\n",
    "    print(i)"
   ]
  },
  {
   "cell_type": "code",
   "execution_count": 9,
   "id": "6ae41589-94f9-4d64-8f43-7ced0a5b8db6",
   "metadata": {},
   "outputs": [],
   "source": [
    "#Q5. Create a generator function for prime numbers less than 1000. Use the next() method to print the first 20 prime numbers.\n",
    "\n",
    "#Ans-\n",
    "\n",
    "def prime():\n",
    "    \n",
    "    number=2\n",
    "    while number<1000:\n",
    "        is_prime=True\n",
    "        for i in range (2,number):\n",
    "            if number%i==0:\n",
    "                is_prime=False\n",
    "                break\n",
    "        if is_prime:\n",
    "            yield number\n",
    "    \n",
    "        number=number+1"
   ]
  },
  {
   "cell_type": "code",
   "execution_count": 10,
   "id": "d2211c3b-6ed4-41fa-aa0f-1ae51c09f1f5",
   "metadata": {},
   "outputs": [
    {
     "name": "stdout",
     "output_type": "stream",
     "text": [
      "2\n",
      "3\n",
      "5\n",
      "7\n",
      "11\n",
      "13\n",
      "17\n",
      "19\n",
      "23\n",
      "29\n",
      "31\n",
      "37\n",
      "41\n",
      "43\n",
      "47\n",
      "53\n",
      "59\n",
      "61\n",
      "67\n",
      "71\n",
      "73\n",
      "79\n",
      "83\n",
      "89\n",
      "97\n",
      "101\n",
      "103\n",
      "107\n",
      "109\n",
      "113\n",
      "127\n",
      "131\n",
      "137\n",
      "139\n",
      "149\n",
      "151\n",
      "157\n",
      "163\n",
      "167\n",
      "173\n",
      "179\n",
      "181\n",
      "191\n",
      "193\n",
      "197\n",
      "199\n",
      "211\n",
      "223\n",
      "227\n",
      "229\n",
      "233\n",
      "239\n",
      "241\n",
      "251\n",
      "257\n",
      "263\n",
      "269\n",
      "271\n",
      "277\n",
      "281\n",
      "283\n",
      "293\n",
      "307\n",
      "311\n",
      "313\n",
      "317\n",
      "331\n",
      "337\n",
      "347\n",
      "349\n",
      "353\n",
      "359\n",
      "367\n",
      "373\n",
      "379\n",
      "383\n",
      "389\n",
      "397\n",
      "401\n",
      "409\n",
      "419\n",
      "421\n",
      "431\n",
      "433\n",
      "439\n",
      "443\n",
      "449\n",
      "457\n",
      "461\n",
      "463\n",
      "467\n",
      "479\n",
      "487\n",
      "491\n",
      "499\n",
      "503\n",
      "509\n",
      "521\n",
      "523\n",
      "541\n",
      "547\n",
      "557\n",
      "563\n",
      "569\n",
      "571\n",
      "577\n",
      "587\n",
      "593\n",
      "599\n",
      "601\n",
      "607\n",
      "613\n",
      "617\n",
      "619\n",
      "631\n",
      "641\n",
      "643\n",
      "647\n",
      "653\n",
      "659\n",
      "661\n",
      "673\n",
      "677\n",
      "683\n",
      "691\n",
      "701\n",
      "709\n",
      "719\n",
      "727\n",
      "733\n",
      "739\n",
      "743\n",
      "751\n",
      "757\n",
      "761\n",
      "769\n",
      "773\n",
      "787\n",
      "797\n",
      "809\n",
      "811\n",
      "821\n",
      "823\n",
      "827\n",
      "829\n",
      "839\n",
      "853\n",
      "857\n",
      "859\n",
      "863\n",
      "877\n",
      "881\n",
      "883\n",
      "887\n",
      "907\n",
      "911\n",
      "919\n",
      "929\n",
      "937\n",
      "941\n",
      "947\n",
      "953\n",
      "967\n",
      "971\n",
      "977\n",
      "983\n",
      "991\n",
      "997\n"
     ]
    }
   ],
   "source": [
    "prime=prime()\n",
    "for i in prime:\n",
    "    print(i)"
   ]
  },
  {
   "cell_type": "code",
   "execution_count": 11,
   "id": "e7726131-5c42-453e-9f2a-ab6ac449f86d",
   "metadata": {},
   "outputs": [
    {
     "name": "stdout",
     "output_type": "stream",
     "text": [
      "2\n",
      "3\n",
      "5\n",
      "7\n",
      "11\n",
      "13\n",
      "17\n",
      "19\n",
      "23\n",
      "29\n",
      "31\n",
      "37\n",
      "41\n",
      "43\n",
      "47\n",
      "53\n",
      "59\n",
      "61\n",
      "67\n",
      "71\n"
     ]
    }
   ],
   "source": [
    "#Use the next() method to print the first 20 prime numbers.\n",
    "def is_prime(n):\n",
    "    if n < 2:\n",
    "        return False\n",
    "    for i in range(2, int(n**0.5) + 1):\n",
    "        if n % i == 0:\n",
    "            return False\n",
    "    return True\n",
    "\n",
    "def primes():\n",
    "    n = 2\n",
    "    while True:\n",
    "        if is_prime(n):\n",
    "            yield n\n",
    "        n += 1\n",
    "\n",
    "prime_generator = primes()\n",
    "\n",
    "for i in range(20):\n",
    "    print(next(prime_generator))"
   ]
  },
  {
   "cell_type": "code",
   "execution_count": 12,
   "id": "a0bc7484-2d27-4813-bb53-f58d4bb52c96",
   "metadata": {},
   "outputs": [
    {
     "name": "stdout",
     "output_type": "stream",
     "text": [
      "0\n",
      "1\n",
      "1\n",
      "2\n",
      "3\n",
      "5\n",
      "8\n",
      "13\n",
      "21\n",
      "34\n"
     ]
    }
   ],
   "source": [
    "#Q6. Write a python program to print the first 10 Fibonacci numbers using a while loop.\n",
    "\n",
    "#Ans- \n",
    "\n",
    "number = 10\n",
    "a , b  = 0 , 1 \n",
    "counter = 0 \n",
    "while counter < number : \n",
    "    print(a)\n",
    "    c = a+ b\n",
    "    a = b \n",
    "    b = c \n",
    "    counter= counter+ 1"
   ]
  },
  {
   "cell_type": "code",
   "execution_count": 13,
   "id": "205a3112-8f41-4870-a1ed-0f0e49a9aa8b",
   "metadata": {},
   "outputs": [
    {
     "data": {
      "text/plain": [
       "['p', 'w', 's', 'k', 'i', 'l', 'l', 's']"
      ]
     },
     "execution_count": 13,
     "metadata": {},
     "output_type": "execute_result"
    }
   ],
   "source": [
    "#Q7. Write a List Comprehension to iterate through the given string: ‘pwskills’. \n",
    "    #Expected output: ['p', 'w', 's', 'k', 'i', 'l', 'l', 's']\n",
    "    \n",
    "#Ans- \n",
    "\n",
    "string='pwskills'\n",
    "\n",
    "#list comprehension\n",
    "[i for i in string]"
   ]
  },
  {
   "cell_type": "code",
   "execution_count": 14,
   "id": "b29c43ae-97d2-4762-b4b4-987f08275e9b",
   "metadata": {},
   "outputs": [
    {
     "name": "stdin",
     "output_type": "stream",
     "text": [
      "Enter a number:  121\n"
     ]
    },
    {
     "name": "stdout",
     "output_type": "stream",
     "text": [
      "121 is a palindrome number\n"
     ]
    }
   ],
   "source": [
    "#Q8. Write a python program to check whether a given number is Palindrome or not using a while loop\n",
    "\n",
    "#Ans- \n",
    "\n",
    "num = int(input(\"Enter a number: \"))\n",
    "temp = num\n",
    "reverse = 0\n",
    "\n",
    "while temp != 0:\n",
    "    last_digit = temp % 10\n",
    "    reverse = reverse * 10 + last_digit\n",
    "    temp = temp // 10\n",
    "\n",
    "if num == reverse:\n",
    "    print(num, \"is a palindrome number\")\n",
    "else:\n",
    "    print(num, \"is not a palindrome number\")"
   ]
  },
  {
   "cell_type": "code",
   "execution_count": null,
   "id": "1e19b9a6-c44d-4550-a3b9-aade6f69b6f9",
   "metadata": {},
   "outputs": [],
   "source": [
    "#Q9. Write a code to print odd numbers from 1 to 100 using list comprehension.\n",
    "     #Use a list comprehension to create a list from 1 to 100 and use another List comprehension to filter out odd numbers.\n",
    "\n",
    "#Ans- \n",
    "\n",
    "#Single Comprehension Method:-\n",
    "\n",
    "[i for i in range(101)if i%2 !=0]"
   ]
  },
  {
   "cell_type": "code",
   "execution_count": 3,
   "id": "1af75455-2469-4182-8da6-ba688307c754",
   "metadata": {},
   "outputs": [
    {
     "name": "stdout",
     "output_type": "stream",
     "text": [
      "[0, 1, 2, 3, 4, 5, 6, 7, 8, 9, 10, 11, 12, 13, 14, 15, 16, 17, 18, 19, 20, 21, 22, 23, 24, 25, 26, 27, 28, 29, 30, 31, 32, 33, 34, 35, 36, 37, 38, 39, 40, 41, 42, 43, 44, 45, 46, 47, 48, 49, 50, 51, 52, 53, 54, 55, 56, 57, 58, 59, 60, 61, 62, 63, 64, 65, 66, 67, 68, 69, 70, 71, 72, 73, 74, 75, 76, 77, 78, 79, 80, 81, 82, 83, 84, 85, 86, 87, 88, 89, 90, 91, 92, 93, 94, 95, 96, 97, 98, 99, 100]\n"
     ]
    }
   ],
   "source": [
    "# double comprehension method.\n",
    "\n",
    "num=[i for i in range(101)]\n",
    "\n",
    "odd_num= [i for i in num if i%2 !=2]\n",
    "\n",
    "print(odd_num)"
   ]
  },
  {
   "cell_type": "code",
   "execution_count": null,
   "id": "be4d8e71-fdc7-47eb-a62f-a687e2cd647a",
   "metadata": {},
   "outputs": [],
   "source": []
  }
 ],
 "metadata": {
  "kernelspec": {
   "display_name": "Python 3 (ipykernel)",
   "language": "python",
   "name": "python3"
  },
  "language_info": {
   "codemirror_mode": {
    "name": "ipython",
    "version": 3
   },
   "file_extension": ".py",
   "mimetype": "text/x-python",
   "name": "python",
   "nbconvert_exporter": "python",
   "pygments_lexer": "ipython3",
   "version": "3.10.8"
  }
 },
 "nbformat": 4,
 "nbformat_minor": 5
}
